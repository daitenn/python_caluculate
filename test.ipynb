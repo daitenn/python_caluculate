{
 "cells": [
  {
   "cell_type": "code",
   "execution_count": 12,
   "id": "274556d3",
   "metadata": {},
   "outputs": [],
   "source": [
    "import numpy as np"
   ]
  },
  {
   "cell_type": "code",
   "execution_count": 13,
   "id": "1a3fe2f3",
   "metadata": {},
   "outputs": [],
   "source": [
    "x = np.array([20, 40, 60])"
   ]
  },
  {
   "cell_type": "code",
   "execution_count": 14,
   "id": "92ad550d",
   "metadata": {},
   "outputs": [],
   "source": [
    "t = np.array([60000, 115000, 155000])"
   ]
  },
  {
   "cell_type": "code",
   "execution_count": 15,
   "id": "7cba719a",
   "metadata": {},
   "outputs": [],
   "source": [
    "x_mean = x.mean()"
   ]
  },
  {
   "cell_type": "code",
   "execution_count": 16,
   "id": "7f9b32ab",
   "metadata": {},
   "outputs": [],
   "source": [
    "t_mean = t.mean() "
   ]
  },
  {
   "cell_type": "code",
   "execution_count": 19,
   "id": "eb6760ec",
   "metadata": {},
   "outputs": [
    {
     "data": {
      "text/plain": [
       "1900000.0"
      ]
     },
     "execution_count": 19,
     "metadata": {},
     "output_type": "execute_result"
    }
   ],
   "source": [
    "xc = x - x_mean \n",
    "tc = t - t_mean\n"
   ]
  },
  {
   "cell_type": "code",
   "execution_count": 20,
   "id": "cbb16772",
   "metadata": {},
   "outputs": [
    {
     "data": {
      "text/plain": [
       "1900000.0"
      ]
     },
     "execution_count": 20,
     "metadata": {},
     "output_type": "execute_result"
    }
   ],
   "source": [
    "(xc * tc).sum()"
   ]
  },
  {
   "cell_type": "code",
   "execution_count": 21,
   "id": "e1a04dcb",
   "metadata": {},
   "outputs": [
    {
     "data": {
      "text/plain": [
       "800.0"
      ]
     },
     "execution_count": 21,
     "metadata": {},
     "output_type": "execute_result"
    }
   ],
   "source": [
    "(xc * xc).sum()\n"
   ]
  },
  {
   "cell_type": "code",
   "execution_count": 22,
   "id": "cffa313f",
   "metadata": {},
   "outputs": [],
   "source": [
    "w = (xc * tc).sum() / (xc * xc).sum()"
   ]
  },
  {
   "cell_type": "code",
   "execution_count": 23,
   "id": "ef385f04",
   "metadata": {},
   "outputs": [],
   "source": [
    "x = 50\n",
    "y = w * (x - x_mean) + t_mean\n"
   ]
  }
 ],
 "metadata": {
  "kernelspec": {
   "display_name": "Python 3.9.13 64-bit",
   "language": "python",
   "name": "python3"
  },
  "language_info": {
   "codemirror_mode": {
    "name": "ipython",
    "version": 3
   },
   "file_extension": ".py",
   "mimetype": "text/x-python",
   "name": "python",
   "nbconvert_exporter": "python",
   "pygments_lexer": "ipython3",
   "version": "3.9.13"
  },
  "vscode": {
   "interpreter": {
    "hash": "aee8b7b246df8f9039afb4144a1f6fd8d2ca17a180786b69acc140d282b71a49"
   }
  }
 },
 "nbformat": 4,
 "nbformat_minor": 5
}
