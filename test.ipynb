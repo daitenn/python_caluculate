{
 "cells": [
  {
   "cell_type": "code",
   "execution_count": 4,
   "id": "274556d3",
   "metadata": {},
   "outputs": [],
   "source": [
    "import numpy as np"
   ]
  },
  {
   "cell_type": "code",
   "execution_count": 5,
   "id": "1a3fe2f3",
   "metadata": {},
   "outputs": [],
   "source": [
    "x = np.array([20, 40, 60])"
   ]
  },
  {
   "cell_type": "code",
   "execution_count": 6,
   "id": "92ad550d",
   "metadata": {},
   "outputs": [],
   "source": [
    "t = np.array([60000, 115000, 155000])"
   ]
  },
  {
   "cell_type": "markdown",
   "id": "700fc548",
   "metadata": {},
   "source": [
    "# xの平均を求める。"
   ]
  },
  {
   "cell_type": "code",
   "execution_count": 7,
   "id": "7cba719a",
   "metadata": {},
   "outputs": [],
   "source": [
    "x_mean = x.mean()"
   ]
  },
  {
   "cell_type": "markdown",
   "id": "31bf5a94",
   "metadata": {},
   "source": [
    "# tの平均を求める。"
   ]
  },
  {
   "cell_type": "code",
   "execution_count": 8,
   "id": "7f9b32ab",
   "metadata": {},
   "outputs": [],
   "source": [
    "t_mean = t.mean() "
   ]
  },
  {
   "cell_type": "markdown",
   "id": "e99a40cf",
   "metadata": {},
   "source": [
    "# 中心化を行う。"
   ]
  },
  {
   "cell_type": "code",
   "execution_count": 9,
   "id": "eb6760ec",
   "metadata": {},
   "outputs": [],
   "source": [
    "xc = x - x_mean \n",
    "tc = t - t_mean\n"
   ]
  },
  {
   "cell_type": "markdown",
   "id": "b68c5909",
   "metadata": {},
   "source": [
    "# 最適なパラメータを求めるために、まずは分子から求める。"
   ]
  },
  {
   "cell_type": "markdown",
   "id": "8b146c75",
   "metadata": {},
   "source": [
    "$$\\sum_{n=1}^N x_n t_n$$"
   ]
  },
  {
   "cell_type": "code",
   "execution_count": 10,
   "id": "cbb16772",
   "metadata": {},
   "outputs": [
    {
     "data": {
      "text/plain": [
       "1900000.0"
      ]
     },
     "execution_count": 10,
     "metadata": {},
     "output_type": "execute_result"
    }
   ],
   "source": [
    "(xc * tc).sum()"
   ]
  },
  {
   "cell_type": "markdown",
   "id": "8c05100b",
   "metadata": {},
   "source": [
    "# 次に分母を求める。"
   ]
  },
  {
   "cell_type": "markdown",
   "id": "5ceda34c",
   "metadata": {},
   "source": [
    "$$\\sum_{n=1}^N x^2_n$$"
   ]
  },
  {
   "cell_type": "code",
   "execution_count": 11,
   "id": "e1a04dcb",
   "metadata": {},
   "outputs": [
    {
     "data": {
      "text/plain": [
       "800.0"
      ]
     },
     "execution_count": 11,
     "metadata": {},
     "output_type": "execute_result"
    }
   ],
   "source": [
    "(xc * xc).sum()\n"
   ]
  },
  {
   "cell_type": "markdown",
   "id": "dc34ae78",
   "metadata": {},
   "source": [
    "# 以上から、最適なパラメータは以下で求まる。"
   ]
  },
  {
   "cell_type": "code",
   "execution_count": 12,
   "id": "cffa313f",
   "metadata": {},
   "outputs": [],
   "source": [
    "w = (xc * tc).sum() / (xc * xc).sum()"
   ]
  },
  {
   "cell_type": "markdown",
   "id": "82bdf013",
   "metadata": {},
   "source": [
    "# また、予測値が,x = 50の時、以下で求まる。"
   ]
  },
  {
   "cell_type": "code",
   "execution_count": 13,
   "id": "ef385f04",
   "metadata": {},
   "outputs": [],
   "source": [
    "x = 50\n",
    "y = w * (x - x_mean) + t_mean\n"
   ]
  }
 ],
 "metadata": {
  "kernelspec": {
   "display_name": "Python 3.9.13 64-bit",
   "language": "python",
   "name": "python3"
  },
  "language_info": {
   "codemirror_mode": {
    "name": "ipython",
    "version": 3
   },
   "file_extension": ".py",
   "mimetype": "text/x-python",
   "name": "python",
   "nbconvert_exporter": "python",
   "pygments_lexer": "ipython3",
   "version": "3.9.13"
  },
  "vscode": {
   "interpreter": {
    "hash": "aee8b7b246df8f9039afb4144a1f6fd8d2ca17a180786b69acc140d282b71a49"
   }
  }
 },
 "nbformat": 4,
 "nbformat_minor": 5
}
